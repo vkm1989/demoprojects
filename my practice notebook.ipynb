{
 "cells": [
  {
   "cell_type": "code",
   "execution_count": null,
   "id": "86500786",
   "metadata": {},
   "outputs": [],
   "source": [
    "\n"
   ]
  },
  {
   "cell_type": "code",
   "execution_count": null,
   "id": "09082afc",
   "metadata": {},
   "outputs": [],
   "source": [
    "print (keyword.kwlist)"
   ]
  },
  {
   "cell_type": "code",
   "execution_count": null,
   "id": "525126be",
   "metadata": {},
   "outputs": [],
   "source": [
    "print (keyword.kwlist)"
   ]
  },
  {
   "cell_type": "code",
   "execution_count": null,
   "id": "3681ef1a",
   "metadata": {},
   "outputs": [],
   "source": [
    "print (keyword.kwlist)"
   ]
  },
  {
   "cell_type": "code",
   "execution_count": null,
   "id": "d2aaae27",
   "metadata": {},
   "outputs": [],
   "source": [
    "True and False"
   ]
  },
  {
   "cell_type": "code",
   "execution_count": null,
   "id": "c29516a4",
   "metadata": {},
   "outputs": [],
   "source": [
    "not True"
   ]
  },
  {
   "cell_type": "raw",
   "id": "7037b85a",
   "metadata": {},
   "source": [
    "True or False "
   ]
  },
  {
   "cell_type": "code",
   "execution_count": null,
   "id": "7a9570fc",
   "metadata": {},
   "outputs": [],
   "source": [
    "True or False"
   ]
  },
  {
   "cell_type": "code",
   "execution_count": null,
   "id": "0c6682fa",
   "metadata": {},
   "outputs": [],
   "source": [
    "\"a\" is \"x\""
   ]
  },
  {
   "cell_type": "code",
   "execution_count": null,
   "id": "1f9c7f14",
   "metadata": {},
   "outputs": [],
   "source": [
    "\"a\" is \"a\""
   ]
  },
  {
   "cell_type": "code",
   "execution_count": null,
   "id": "d9c15b0d",
   "metadata": {},
   "outputs": [],
   "source": [
    "True + True"
   ]
  },
  {
   "cell_type": "code",
   "execution_count": null,
   "id": "c8595268",
   "metadata": {},
   "outputs": [],
   "source": [
    "True+ False"
   ]
  },
  {
   "cell_type": "code",
   "execution_count": null,
   "id": "60dbc6b0",
   "metadata": {},
   "outputs": [],
   "source": [
    "a=5.5"
   ]
  },
  {
   "cell_type": "code",
   "execution_count": null,
   "id": "5a5b542d",
   "metadata": {},
   "outputs": [],
   "source": [
    "type (a)"
   ]
  },
  {
   "cell_type": "code",
   "execution_count": null,
   "id": "d9a6206e",
   "metadata": {},
   "outputs": [],
   "source": [
    "a=1\n",
    "a"
   ]
  },
  {
   "cell_type": "code",
   "execution_count": null,
   "id": "673d54ec",
   "metadata": {},
   "outputs": [],
   "source": [
    "employee=[\"ramesh\"]"
   ]
  },
  {
   "cell_type": "code",
   "execution_count": null,
   "id": "5b4b7dde",
   "metadata": {},
   "outputs": [],
   "source": [
    "employee"
   ]
  },
  {
   "cell_type": "code",
   "execution_count": null,
   "id": "8595684b",
   "metadata": {},
   "outputs": [],
   "source": [
    "employee.append(\"radha\")"
   ]
  },
  {
   "cell_type": "code",
   "execution_count": null,
   "id": "2b10967d",
   "metadata": {},
   "outputs": [],
   "source": [
    "employee\n"
   ]
  },
  {
   "cell_type": "code",
   "execution_count": null,
   "id": "3e4114f4",
   "metadata": {},
   "outputs": [],
   "source": [
    "employee.insert (1,\"ujjwal\")"
   ]
  },
  {
   "cell_type": "code",
   "execution_count": null,
   "id": "05232104",
   "metadata": {},
   "outputs": [],
   "source": [
    "employee"
   ]
  },
  {
   "cell_type": "markdown",
   "id": "242efe0d",
   "metadata": {},
   "source": [
    "employee.reverse"
   ]
  },
  {
   "cell_type": "code",
   "execution_count": null,
   "id": "f810f827",
   "metadata": {},
   "outputs": [],
   "source": [
    "employee"
   ]
  },
  {
   "cell_type": "code",
   "execution_count": null,
   "id": "2dda3a07",
   "metadata": {},
   "outputs": [],
   "source": [
    "employee.reverse()"
   ]
  },
  {
   "cell_type": "code",
   "execution_count": null,
   "id": "3937705a",
   "metadata": {},
   "outputs": [],
   "source": [
    "employee"
   ]
  },
  {
   "cell_type": "code",
   "execution_count": null,
   "id": "6838ddc1",
   "metadata": {},
   "outputs": [],
   "source": [
    "employee"
   ]
  },
  {
   "cell_type": "code",
   "execution_count": null,
   "id": "fa97b21d",
   "metadata": {},
   "outputs": [],
   "source": [
    "employee.extend[\"ujji\" \"rami\"]"
   ]
  },
  {
   "cell_type": "code",
   "execution_count": 43,
   "id": "dbfb9995",
   "metadata": {},
   "outputs": [
    {
     "data": {
      "text/plain": [
       "1"
      ]
     },
     "execution_count": 43,
     "metadata": {},
     "output_type": "execute_result"
    }
   ],
   "source": [
    "True+False"
   ]
  },
  {
   "cell_type": "code",
   "execution_count": 44,
   "id": "2a769196",
   "metadata": {},
   "outputs": [
    {
     "data": {
      "text/plain": [
       "2"
      ]
     },
     "execution_count": 44,
     "metadata": {},
     "output_type": "execute_result"
    }
   ],
   "source": [
    "True+True\n"
   ]
  },
  {
   "cell_type": "code",
   "execution_count": 45,
   "id": "6b6a5226",
   "metadata": {},
   "outputs": [
    {
     "data": {
      "text/plain": [
       "True"
      ]
     },
     "execution_count": 45,
     "metadata": {},
     "output_type": "execute_result"
    }
   ],
   "source": [
    "10==10"
   ]
  },
  {
   "cell_type": "code",
   "execution_count": 47,
   "id": "29c8b041",
   "metadata": {},
   "outputs": [
    {
     "data": {
      "text/plain": [
       "True"
      ]
     },
     "execution_count": 47,
     "metadata": {},
     "output_type": "execute_result"
    }
   ],
   "source": [
    "10==10"
   ]
  },
  {
   "cell_type": "code",
   "execution_count": 48,
   "id": "3c286470",
   "metadata": {},
   "outputs": [],
   "source": [
    "Ujjwal=[\"earn\",\"money\"]"
   ]
  },
  {
   "cell_type": "code",
   "execution_count": 49,
   "id": "b2576eba",
   "metadata": {},
   "outputs": [
    {
     "data": {
      "text/plain": [
       "['earn', 'money']"
      ]
     },
     "execution_count": 49,
     "metadata": {},
     "output_type": "execute_result"
    }
   ],
   "source": [
    "Ujjwal"
   ]
  },
  {
   "cell_type": "code",
   "execution_count": null,
   "id": "19526722",
   "metadata": {},
   "outputs": [],
   "source": []
  },
  {
   "cell_type": "code",
   "execution_count": 54,
   "id": "d472bece",
   "metadata": {},
   "outputs": [
    {
     "name": "stdout",
     "output_type": "stream",
     "text": [
      "20\n"
     ]
    },
    {
     "data": {
      "text/plain": [
       "int"
      ]
     },
     "execution_count": 54,
     "metadata": {},
     "output_type": "execute_result"
    }
   ],
   "source": [
    "b=20\n",
    "a=10\n",
    "print (b)\n",
    "type (b)"
   ]
  },
  {
   "cell_type": "code",
   "execution_count": 52,
   "id": "77f822f6",
   "metadata": {},
   "outputs": [
    {
     "data": {
      "text/plain": [
       "20.0"
      ]
     },
     "execution_count": 52,
     "metadata": {},
     "output_type": "execute_result"
    }
   ],
   "source": [
    "b"
   ]
  },
  {
   "cell_type": "code",
   "execution_count": 56,
   "id": "4de471f6",
   "metadata": {},
   "outputs": [
    {
     "name": "stdout",
     "output_type": "stream",
     "text": [
      "300\n"
     ]
    }
   ],
   "source": [
    "c=a+b\n",
    "print(c*10)"
   ]
  },
  {
   "cell_type": "code",
   "execution_count": 59,
   "id": "2eda311b",
   "metadata": {},
   "outputs": [
    {
     "name": "stdout",
     "output_type": "stream",
     "text": [
      "python is easy\n"
     ]
    }
   ],
   "source": [
    "print(\"python is easy\")"
   ]
  },
  {
   "cell_type": "code",
   "execution_count": 71,
   "id": "5e1e2d99",
   "metadata": {},
   "outputs": [
    {
     "name": "stdout",
     "output_type": "stream",
     "text": [
      "pythonmust be learned to update ourselves\n"
     ]
    }
   ],
   "source": [
    "print (\"python\" + \"must be learned\", \"to update ourselves\")"
   ]
  },
  {
   "cell_type": "code",
   "execution_count": 64,
   "id": "ca21f550",
   "metadata": {},
   "outputs": [
    {
     "name": "stdout",
     "output_type": "stream",
     "text": [
      "python is easy to learn\n"
     ]
    }
   ],
   "source": [
    "print (\"python\", \"is easy\",\"to learn\")"
   ]
  },
  {
   "cell_type": "code",
   "execution_count": 65,
   "id": "79570d00",
   "metadata": {},
   "outputs": [
    {
     "name": "stdout",
     "output_type": "stream",
     "text": [
      "pythonis easy\n"
     ]
    }
   ],
   "source": [
    "print (\"python\" + \"is easy\")l={}"
   ]
  },
  {
   "cell_type": "code",
   "execution_count": 67,
   "id": "731d591d",
   "metadata": {},
   "outputs": [
    {
     "name": "stdout",
     "output_type": "stream",
     "text": [
      "daydaydaydaydaydaydaydayday\n"
     ]
    }
   ],
   "source": [
    "print (\"day\" * 9)"
   ]
  },
  {
   "cell_type": "code",
   "execution_count": 70,
   "id": "ba99a6de",
   "metadata": {},
   "outputs": [
    {
     "name": "stdout",
     "output_type": "stream",
     "text": [
      "daydaydaydaydaydaydaydayday\n"
     ]
    }
   ],
   "source": [
    "print(\"day\" * 9)"
   ]
  },
  {
   "cell_type": "code",
   "execution_count": 72,
   "id": "96ffe31e",
   "metadata": {},
   "outputs": [
    {
     "name": "stdout",
     "output_type": "stream",
     "text": [
      "DayDayDayDayDayDayDayDayDay\n"
     ]
    }
   ],
   "source": [
    "print (\"Day\" * 9)"
   ]
  },
  {
   "cell_type": "code",
   "execution_count": 74,
   "id": "f18c6fae",
   "metadata": {},
   "outputs": [
    {
     "name": "stdout",
     "output_type": "stream",
     "text": [
      "day2\n"
     ]
    }
   ],
   "source": [
    "print (\"day\"+str(2))"
   ]
  },
  {
   "cell_type": "code",
   "execution_count": 75,
   "id": "244de80d",
   "metadata": {},
   "outputs": [],
   "source": [
    "l=[]"
   ]
  },
  {
   "cell_type": "code",
   "execution_count": 78,
   "id": "df8da928",
   "metadata": {},
   "outputs": [],
   "source": [
    "#list.append[\"ujjwal\"]\n",
    "l=[1,b,c]"
   ]
  },
  {
   "cell_type": "code",
   "execution_count": 79,
   "id": "efc7bcc6",
   "metadata": {},
   "outputs": [
    {
     "data": {
      "text/plain": [
       "[1, 20, 30]"
      ]
     },
     "execution_count": 79,
     "metadata": {},
     "output_type": "execute_result"
    }
   ],
   "source": [
    "l"
   ]
  },
  {
   "cell_type": "code",
   "execution_count": 80,
   "id": "128e78ec",
   "metadata": {},
   "outputs": [
    {
     "data": {
      "text/plain": [
       "'daydaydaydaydaydaydaydayday'"
      ]
     },
     "execution_count": 80,
     "metadata": {},
     "output_type": "execute_result"
    }
   ],
   "source": [
    "(\"day\"*9)"
   ]
  },
  {
   "cell_type": "code",
   "execution_count": 81,
   "id": "df64a894",
   "metadata": {},
   "outputs": [
    {
     "data": {
      "text/plain": [
       "'daydaydaydaydaydaydaydayday'"
      ]
     },
     "execution_count": 81,
     "metadata": {},
     "output_type": "execute_result"
    }
   ],
   "source": [
    "(\"day\" *9)"
   ]
  },
  {
   "cell_type": "code",
   "execution_count": 82,
   "id": "db9b7cc1",
   "metadata": {},
   "outputs": [
    {
     "data": {
      "text/plain": [
       "'daydaydaydaydaydaydaydayday'"
      ]
     },
     "execution_count": 82,
     "metadata": {},
     "output_type": "execute_result"
    }
   ],
   "source": [
    "(\"day\" * 9)"
   ]
  },
  {
   "cell_type": "code",
   "execution_count": 83,
   "id": "1b803b52",
   "metadata": {},
   "outputs": [
    {
     "data": {
      "text/plain": [
       "'day day day day day day day day day '"
      ]
     },
     "execution_count": 83,
     "metadata": {},
     "output_type": "execute_result"
    }
   ],
   "source": [
    "(\"day \"*9)"
   ]
  },
  {
   "cell_type": "code",
   "execution_count": 84,
   "id": "ac22d913",
   "metadata": {},
   "outputs": [],
   "source": [
    "l2=list(l)"
   ]
  },
  {
   "cell_type": "code",
   "execution_count": 85,
   "id": "07f81c9d",
   "metadata": {},
   "outputs": [
    {
     "data": {
      "text/plain": [
       "[1, 20, 30]"
      ]
     },
     "execution_count": 85,
     "metadata": {},
     "output_type": "execute_result"
    }
   ],
   "source": [
    "l2"
   ]
  },
  {
   "cell_type": "code",
   "execution_count": 86,
   "id": "364c3fb7",
   "metadata": {},
   "outputs": [
    {
     "data": {
      "text/plain": [
       "['Ujjwal', 'Prahlad', 'Mala', 'Jai Kishan']"
      ]
     },
     "execution_count": 86,
     "metadata": {},
     "output_type": "execute_result"
    }
   ],
   "source": [
    "employee=[\"Ujjwal\",\"Prahlad\",\"Mala\",\"Jai Kishan\"]\n",
    "employee"
   ]
  },
  {
   "cell_type": "code",
   "execution_count": 91,
   "id": "b30012a3",
   "metadata": {},
   "outputs": [
    {
     "data": {
      "text/plain": [
       "['Ujjwal', 'Prahlad', 'Mala', 'Jai Kishan', 'Shatrudra', 'Shatrudra']"
      ]
     },
     "execution_count": 91,
     "metadata": {},
     "output_type": "execute_result"
    }
   ],
   "source": [
    "employee.append(\"Shatrudra\")\n",
    "employee"
   ]
  },
  {
   "cell_type": "code",
   "execution_count": 89,
   "id": "bd8222e2",
   "metadata": {},
   "outputs": [
    {
     "data": {
      "text/plain": [
       "['u', 'j', 'j', 'w', 'a', 'l']"
      ]
     },
     "execution_count": 89,
     "metadata": {},
     "output_type": "execute_result"
    }
   ],
   "source": [
    "list(\"ujjwal\")"
   ]
  },
  {
   "cell_type": "code",
   "execution_count": 93,
   "id": "576a1cbd",
   "metadata": {},
   "outputs": [
    {
     "data": {
      "text/plain": [
       "['Ujjwal', 'Prahlad', 'Mala', 'Jai Kishan']"
      ]
     },
     "execution_count": 93,
     "metadata": {},
     "output_type": "execute_result"
    }
   ],
   "source": [
    "employee.remove(\"Shatrudra\")\n",
    "employee"
   ]
  },
  {
   "cell_type": "markdown",
   "id": "537210ab",
   "metadata": {},
   "source": [
    "employee.append(\"Ranjeet\")\n",
    "employee"
   ]
  },
  {
   "cell_type": "code",
   "execution_count": 94,
   "id": "6a49522c",
   "metadata": {},
   "outputs": [
    {
     "data": {
      "text/plain": [
       "['Ujjwal', 'Prahlad', 'Mala', 'Jai Kishan', 'Ranjeet']"
      ]
     },
     "execution_count": 94,
     "metadata": {},
     "output_type": "execute_result"
    }
   ],
   "source": [
    "employee.append (\"Ranjeet\")\n",
    "employee"
   ]
  },
  {
   "cell_type": "code",
   "execution_count": 95,
   "id": "5abd9d20",
   "metadata": {},
   "outputs": [
    {
     "data": {
      "text/plain": [
       "['Ujjwal', 'Sekhar', 'Prahlad', 'Mala', 'Jai Kishan', 'Ranjeet']"
      ]
     },
     "execution_count": 95,
     "metadata": {},
     "output_type": "execute_result"
    }
   ],
   "source": [
    "employee.insert(1,\"Sekhar\")\n",
    "employee"
   ]
  },
  {
   "cell_type": "code",
   "execution_count": 96,
   "id": "a7628733",
   "metadata": {},
   "outputs": [
    {
     "ename": "TypeError",
     "evalue": "list.extend() takes exactly one argument (2 given)",
     "output_type": "error",
     "traceback": [
      "\u001b[1;31m---------------------------------------------------------------------------\u001b[0m",
      "\u001b[1;31mTypeError\u001b[0m                                 Traceback (most recent call last)",
      "\u001b[1;32m~\\AppData\\Local\\Temp/ipykernel_14428/2398357714.py\u001b[0m in \u001b[0;36m<module>\u001b[1;34m\u001b[0m\n\u001b[1;32m----> 1\u001b[1;33m \u001b[0memployee\u001b[0m\u001b[1;33m.\u001b[0m\u001b[0mextend\u001b[0m\u001b[1;33m(\u001b[0m\u001b[1;34m\"Asish\"\u001b[0m\u001b[1;33m,\u001b[0m\u001b[1;34m\"Vinay\"\u001b[0m\u001b[1;33m)\u001b[0m\u001b[1;33m\u001b[0m\u001b[1;33m\u001b[0m\u001b[0m\n\u001b[0m\u001b[0;32m      2\u001b[0m \u001b[0memployee\u001b[0m\u001b[1;33m\u001b[0m\u001b[1;33m\u001b[0m\u001b[0m\n",
      "\u001b[1;31mTypeError\u001b[0m: list.extend() takes exactly one argument (2 given)"
     ]
    }
   ],
   "source": [
    "employee.extend(\"Asish\",\"Vinay\")\n",
    "employee"
   ]
  },
  {
   "cell_type": "code",
   "execution_count": 98,
   "id": "00a614b5",
   "metadata": {},
   "outputs": [
    {
     "data": {
      "text/plain": [
       "[50000, 60000, 55000]"
      ]
     },
     "execution_count": 98,
     "metadata": {},
     "output_type": "execute_result"
    }
   ],
   "source": [
    "employee_Salary=[50000,60000,55000]\n",
    "employee_Salary"
   ]
  },
  {
   "cell_type": "code",
   "execution_count": 99,
   "id": "fd890ce4",
   "metadata": {},
   "outputs": [
    {
     "name": "stdout",
     "output_type": "stream",
     "text": [
      "Collecting jedi==0.17.2"
     ]
    },
    {
     "name": "stderr",
     "output_type": "stream",
     "text": [
      "ERROR: Could not install packages due to an OSError: [WinError 5] Access is denied: 'c:\\\\programdata\\\\anaconda3\\\\lib\\\\site-packages\\\\parso-0.8.2.dist-info\\\\AUTHORS.txt'\n",
      "Consider using the `--user` option or check the permissions.\n",
      "\n"
     ]
    },
    {
     "name": "stdout",
     "output_type": "stream",
     "text": [
      "\n",
      "  Downloading jedi-0.17.2-py2.py3-none-any.whl (1.4 MB)\n",
      "Collecting parso<0.8.0,>=0.7.0\n",
      "  Downloading parso-0.7.1-py2.py3-none-any.whl (109 kB)\n",
      "Installing collected packages: parso, jedi\n",
      "  Attempting uninstall: parso\n",
      "    Found existing installation: parso 0.8.2\n",
      "    Uninstalling parso-0.8.2:\n"
     ]
    }
   ],
   "source": [
    "!pip3 install jedi==0.17.2"
   ]
  },
  {
   "cell_type": "code",
   "execution_count": 100,
   "id": "36b20b62",
   "metadata": {},
   "outputs": [
    {
     "data": {
      "text/plain": [
       "6"
      ]
     },
     "execution_count": 100,
     "metadata": {},
     "output_type": "execute_result"
    }
   ],
   "source": [
    "len(employee)"
   ]
  },
  {
   "cell_type": "code",
   "execution_count": 101,
   "id": "c328dba1",
   "metadata": {},
   "outputs": [
    {
     "data": {
      "text/plain": [
       "'Prahlad'"
      ]
     },
     "execution_count": 101,
     "metadata": {},
     "output_type": "execute_result"
    }
   ],
   "source": [
    "employee[2]"
   ]
  },
  {
   "cell_type": "code",
   "execution_count": 102,
   "id": "f5e7b86c",
   "metadata": {},
   "outputs": [
    {
     "data": {
      "text/plain": [
       "'Sekhar'"
      ]
     },
     "execution_count": 102,
     "metadata": {},
     "output_type": "execute_result"
    }
   ],
   "source": [
    "employee[1]"
   ]
  },
  {
   "cell_type": "code",
   "execution_count": 103,
   "id": "e90cc915",
   "metadata": {},
   "outputs": [
    {
     "data": {
      "text/plain": [
       "'Ranjeet'"
      ]
     },
     "execution_count": 103,
     "metadata": {},
     "output_type": "execute_result"
    }
   ],
   "source": [
    "employee[-1]"
   ]
  },
  {
   "cell_type": "code",
   "execution_count": 105,
   "id": "9b0c12de",
   "metadata": {},
   "outputs": [
    {
     "data": {
      "text/plain": [
       "'Ujjwal'"
      ]
     },
     "execution_count": 105,
     "metadata": {},
     "output_type": "execute_result"
    }
   ],
   "source": [
    "employee[0]"
   ]
  },
  {
   "cell_type": "markdown",
   "id": "a17b6e1e",
   "metadata": {},
   "source": [
    "employee_salary[1]"
   ]
  },
  {
   "cell_type": "code",
   "execution_count": 106,
   "id": "a35cfe20",
   "metadata": {},
   "outputs": [
    {
     "data": {
      "text/plain": [
       "60000"
      ]
     },
     "execution_count": 106,
     "metadata": {},
     "output_type": "execute_result"
    }
   ],
   "source": [
    "employee_Salary[1]"
   ]
  },
  {
   "cell_type": "code",
   "execution_count": 108,
   "id": "e4738f42",
   "metadata": {},
   "outputs": [
    {
     "data": {
      "text/plain": [
       "[50000, 60000, 68000, 55000]"
      ]
     },
     "execution_count": 108,
     "metadata": {},
     "output_type": "execute_result"
    }
   ],
   "source": [
    "employee_Salary.insert(2,68000)\n",
    "employee_Salary\n"
   ]
  },
  {
   "cell_type": "code",
   "execution_count": 109,
   "id": "d005374b",
   "metadata": {},
   "outputs": [
    {
     "data": {
      "text/plain": [
       "[50000, 89000, 68000, 55000]"
      ]
     },
     "execution_count": 109,
     "metadata": {},
     "output_type": "execute_result"
    }
   ],
   "source": [
    "employee_Salary[1]=89000\n",
    "employee_Salary"
   ]
  },
  {
   "cell_type": "code",
   "execution_count": 110,
   "id": "9da971b8",
   "metadata": {},
   "outputs": [
    {
     "ename": "NameError",
     "evalue": "name 'employee_salary' is not defined",
     "output_type": "error",
     "traceback": [
      "\u001b[1;31m---------------------------------------------------------------------------\u001b[0m",
      "\u001b[1;31mNameError\u001b[0m                                 Traceback (most recent call last)",
      "\u001b[1;32m~\\AppData\\Local\\Temp/ipykernel_14428/475118597.py\u001b[0m in \u001b[0;36m<module>\u001b[1;34m\u001b[0m\n\u001b[1;32m----> 1\u001b[1;33m \u001b[0memployee_salary\u001b[0m\u001b[1;33m(\u001b[0m\u001b[1;36m1\u001b[0m\u001b[1;33m)\u001b[0m\u001b[1;33m\u001b[0m\u001b[1;33m\u001b[0m\u001b[0m\n\u001b[0m",
      "\u001b[1;31mNameError\u001b[0m: name 'employee_salary' is not defined"
     ]
    }
   ],
   "source": [
    "employee"
   ]
  },
  {
   "cell_type": "code",
   "execution_count": 112,
   "id": "34373ae2",
   "metadata": {},
   "outputs": [
    {
     "data": {
      "text/plain": [
       "1"
      ]
     },
     "execution_count": 112,
     "metadata": {},
     "output_type": "execute_result"
    }
   ],
   "source": [
    "employee_Salary.index(89000)"
   ]
  },
  {
   "cell_type": "code",
   "execution_count": 113,
   "id": "f9330885",
   "metadata": {},
   "outputs": [
    {
     "data": {
      "text/plain": [
       "68000"
      ]
     },
     "execution_count": 113,
     "metadata": {},
     "output_type": "execute_result"
    }
   ],
   "source": [
    "employee_Salary[2]"
   ]
  },
  {
   "cell_type": "code",
   "execution_count": 114,
   "id": "13468d4f",
   "metadata": {},
   "outputs": [
    {
     "data": {
      "text/plain": [
       "[50000, 89000, 68000]"
      ]
     },
     "execution_count": 114,
     "metadata": {},
     "output_type": "execute_result"
    }
   ],
   "source": [
    "employee_Salary[:3]"
   ]
  },
  {
   "cell_type": "code",
   "execution_count": 115,
   "id": "a13ee495",
   "metadata": {},
   "outputs": [
    {
     "data": {
      "text/plain": [
       "[89000, 68000, 55000]"
      ]
     },
     "execution_count": 115,
     "metadata": {},
     "output_type": "execute_result"
    }
   ],
   "source": [
    "employee_Salary[1:]"
   ]
  },
  {
   "cell_type": "code",
   "execution_count": 116,
   "id": "b314c843",
   "metadata": {},
   "outputs": [
    {
     "data": {
      "text/plain": [
       "[50000, 89000, 68000, 55000, 25000]"
      ]
     },
     "execution_count": 116,
     "metadata": {},
     "output_type": "execute_result"
    }
   ],
   "source": [
    "employee_Salary+[25000]"
   ]
  },
  {
   "cell_type": "code",
   "execution_count": 117,
   "id": "8b1c24b9",
   "metadata": {},
   "outputs": [
    {
     "data": {
      "text/plain": [
       "[50000, 89000, 68000, 55000]"
      ]
     },
     "execution_count": 117,
     "metadata": {},
     "output_type": "execute_result"
    }
   ],
   "source": [
    "employee_Salary"
   ]
  },
  {
   "cell_type": "code",
   "execution_count": 119,
   "id": "2be5b659",
   "metadata": {},
   "outputs": [],
   "source": [
    "employee_salary=employee_Salary+[25000]"
   ]
  },
  {
   "cell_type": "markdown",
   "id": "426622a4",
   "metadata": {},
   "source": [
    "employee_salary"
   ]
  },
  {
   "cell_type": "code",
   "execution_count": 120,
   "id": "e2702857",
   "metadata": {},
   "outputs": [
    {
     "data": {
      "text/plain": [
       "[50000, 89000, 68000, 55000, 25000]"
      ]
     },
     "execution_count": 120,
     "metadata": {},
     "output_type": "execute_result"
    }
   ],
   "source": [
    "employee_salary"
   ]
  },
  {
   "cell_type": "code",
   "execution_count": 131,
   "id": "6c05f242",
   "metadata": {},
   "outputs": [
    {
     "name": "stdout",
     "output_type": "stream",
     "text": [
      "==========================================================================================\n",
      "                                       UJJWAL JHA                                     \n",
      "==========================================================================================\n"
     ]
    }
   ],
   "source": [
    "print(\"=\"*90)\n",
    "print(\"                                       UJJWAL JHA                                     \")\n",
    "print(\"=\"*90)"
   ]
  },
  {
   "cell_type": "code",
   "execution_count": 132,
   "id": "2a4e3f20",
   "metadata": {},
   "outputs": [
    {
     "name": "stdout",
     "output_type": "stream",
     "text": [
      "555555555555555555555555555555555555555555555555555555555555555555555555555555555555555555\n"
     ]
    }
   ],
   "source": [
    "print (\"5\"*90)"
   ]
  },
  {
   "cell_type": "code",
   "execution_count": 139,
   "id": "c2f5ad5d",
   "metadata": {},
   "outputs": [
    {
     "name": "stdout",
     "output_type": "stream",
     "text": [
      "2\n"
     ]
    }
   ],
   "source": [
    "a=10\n",
    "b=10\n",
    "if a>10:\n",
    "    print(\"1\")\n",
    "elif b==10:\n",
    "    print(\"2\")\n",
    "    "
   ]
  },
  {
   "cell_type": "code",
   "execution_count": 140,
   "id": "683a9059",
   "metadata": {},
   "outputs": [],
   "source": [
    "marks=[25,30,55,66,55,66,78,89,93,55,77,45,28,20]"
   ]
  },
  {
   "cell_type": "code",
   "execution_count": 135,
   "id": "4b15f5e6",
   "metadata": {},
   "outputs": [
    {
     "data": {
      "text/plain": [
       "3"
      ]
     },
     "execution_count": 135,
     "metadata": {},
     "output_type": "execute_result"
    }
   ],
   "source": [
    "marks.count(55)"
   ]
  },
  {
   "cell_type": "code",
   "execution_count": 145,
   "id": "39b8926d",
   "metadata": {},
   "outputs": [
    {
     "data": {
      "text/plain": [
       "2"
      ]
     },
     "execution_count": 145,
     "metadata": {},
     "output_type": "execute_result"
    }
   ],
   "source": [
    "marks.index(55)"
   ]
  },
  {
   "cell_type": "code",
   "execution_count": 137,
   "id": "bea254b4",
   "metadata": {},
   "outputs": [
    {
     "data": {
      "text/plain": [
       "1"
      ]
     },
     "execution_count": 137,
     "metadata": {},
     "output_type": "execute_result"
    }
   ],
   "source": [
    "marks.count(77)"
   ]
  },
  {
   "cell_type": "code",
   "execution_count": 138,
   "id": "b8a5f07b",
   "metadata": {},
   "outputs": [
    {
     "data": {
      "text/plain": [
       "10"
      ]
     },
     "execution_count": 138,
     "metadata": {},
     "output_type": "execute_result"
    }
   ],
   "source": [
    "marks.index(77)"
   ]
  },
  {
   "cell_type": "code",
   "execution_count": 141,
   "id": "d0d6787a",
   "metadata": {},
   "outputs": [
    {
     "data": {
      "text/plain": [
       "['Ujjwal', 'Sekhar', 'Prahlad', 'Mala', 'Jai Kishan', 'Ranjeet']"
      ]
     },
     "execution_count": 141,
     "metadata": {},
     "output_type": "execute_result"
    }
   ],
   "source": [
    "employee"
   ]
  },
  {
   "cell_type": "code",
   "execution_count": 143,
   "id": "6bb7f24e",
   "metadata": {},
   "outputs": [],
   "source": [
    "employee.extend([\"sarita\",\"kanchan\"])"
   ]
  },
  {
   "cell_type": "code",
   "execution_count": 144,
   "id": "5a467b79",
   "metadata": {},
   "outputs": [
    {
     "data": {
      "text/plain": [
       "['Ujjwal',\n",
       " 'Sekhar',\n",
       " 'Prahlad',\n",
       " 'Mala',\n",
       " 'Jai Kishan',\n",
       " 'Ranjeet',\n",
       " 'sarita',\n",
       " 'kanchan']"
      ]
     },
     "execution_count": 144,
     "metadata": {},
     "output_type": "execute_result"
    }
   ],
   "source": [
    "employee"
   ]
  },
  {
   "cell_type": "code",
   "execution_count": 146,
   "id": "4a53fb7c",
   "metadata": {},
   "outputs": [],
   "source": [
    "employee.append('Chetan')"
   ]
  },
  {
   "cell_type": "code",
   "execution_count": 152,
   "id": "07255940",
   "metadata": {},
   "outputs": [
    {
     "data": {
      "text/plain": [
       "['Ujjwal',\n",
       " 'Sekhar',\n",
       " 'Prahlad',\n",
       " 'Jai Kishan',\n",
       " 'Ranjeet',\n",
       " 'sarita',\n",
       " 'kanchan',\n",
       " 'Chetan']"
      ]
     },
     "execution_count": 152,
     "metadata": {},
     "output_type": "execute_result"
    }
   ],
   "source": [
    "employee"
   ]
  },
  {
   "cell_type": "code",
   "execution_count": 153,
   "id": "7873a956",
   "metadata": {},
   "outputs": [
    {
     "data": {
      "text/plain": [
       "<function list.pop(index=-1, /)>"
      ]
     },
     "execution_count": 153,
     "metadata": {},
     "output_type": "execute_result"
    }
   ],
   "source": [
    "employee.pop"
   ]
  },
  {
   "cell_type": "code",
   "execution_count": 154,
   "id": "464d41e9",
   "metadata": {},
   "outputs": [
    {
     "data": {
      "text/plain": [
       "'Ranjeet'"
      ]
     },
     "execution_count": 154,
     "metadata": {},
     "output_type": "execute_result"
    }
   ],
   "source": [
    "employee.pop(4)"
   ]
  },
  {
   "cell_type": "code",
   "execution_count": 155,
   "id": "3c432b3c",
   "metadata": {},
   "outputs": [
    {
     "data": {
      "text/plain": [
       "['Ujjwal', 'Sekhar', 'Prahlad', 'Jai Kishan', 'sarita', 'kanchan', 'Chetan']"
      ]
     },
     "execution_count": 155,
     "metadata": {},
     "output_type": "execute_result"
    }
   ],
   "source": [
    "employee"
   ]
  },
  {
   "cell_type": "code",
   "execution_count": 156,
   "id": "54456180",
   "metadata": {},
   "outputs": [],
   "source": [
    "marks.remove(28)"
   ]
  },
  {
   "cell_type": "code",
   "execution_count": 157,
   "id": "1c3dc8c2",
   "metadata": {},
   "outputs": [
    {
     "data": {
      "text/plain": [
       "[25, 30, 55, 66, 55, 66, 78, 89, 93, 55, 77, 45, 20]"
      ]
     },
     "execution_count": 157,
     "metadata": {},
     "output_type": "execute_result"
    }
   ],
   "source": [
    "marks"
   ]
  },
  {
   "cell_type": "code",
   "execution_count": 158,
   "id": "0eeb3e00",
   "metadata": {},
   "outputs": [],
   "source": [
    "marks.remove(55)"
   ]
  },
  {
   "cell_type": "code",
   "execution_count": 159,
   "id": "86171e23",
   "metadata": {},
   "outputs": [
    {
     "data": {
      "text/plain": [
       "[25, 30, 66, 55, 66, 78, 89, 93, 55, 77, 45, 20]"
      ]
     },
     "execution_count": 159,
     "metadata": {},
     "output_type": "execute_result"
    }
   ],
   "source": [
    "marks"
   ]
  },
  {
   "cell_type": "code",
   "execution_count": 161,
   "id": "03389ba8",
   "metadata": {},
   "outputs": [
    {
     "data": {
      "text/plain": [
       "55"
      ]
     },
     "execution_count": 161,
     "metadata": {},
     "output_type": "execute_result"
    }
   ],
   "source": [
    "marks.pop(3)"
   ]
  },
  {
   "cell_type": "code",
   "execution_count": 162,
   "id": "7d18b711",
   "metadata": {},
   "outputs": [
    {
     "data": {
      "text/plain": [
       "[25, 30, 66, 66, 78, 89, 93, 55, 77, 45, 20]"
      ]
     },
     "execution_count": 162,
     "metadata": {},
     "output_type": "execute_result"
    }
   ],
   "source": [
    "marks"
   ]
  },
  {
   "cell_type": "code",
   "execution_count": 163,
   "id": "37700b76",
   "metadata": {},
   "outputs": [
    {
     "data": {
      "text/plain": [
       "<function list.reverse()>"
      ]
     },
     "execution_count": 163,
     "metadata": {},
     "output_type": "execute_result"
    }
   ],
   "source": [
    "marks.reverse"
   ]
  },
  {
   "cell_type": "code",
   "execution_count": 164,
   "id": "787a0f8b",
   "metadata": {},
   "outputs": [
    {
     "data": {
      "text/plain": [
       "[25, 30, 66, 66, 78, 89, 93, 55, 77, 45, 20]"
      ]
     },
     "execution_count": 164,
     "metadata": {},
     "output_type": "execute_result"
    }
   ],
   "source": [
    "marks"
   ]
  },
  {
   "cell_type": "code",
   "execution_count": 167,
   "id": "303e8fdb",
   "metadata": {},
   "outputs": [],
   "source": [
    "marks.reverse()"
   ]
  },
  {
   "cell_type": "code",
   "execution_count": 168,
   "id": "9333b03b",
   "metadata": {},
   "outputs": [
    {
     "data": {
      "text/plain": [
       "[20, 45, 77, 55, 93, 89, 78, 66, 66, 30, 25]"
      ]
     },
     "execution_count": 168,
     "metadata": {},
     "output_type": "execute_result"
    }
   ],
   "source": [
    "marks"
   ]
  },
  {
   "cell_type": "code",
   "execution_count": 169,
   "id": "a9bd84da",
   "metadata": {},
   "outputs": [],
   "source": [
    "marks.sort()"
   ]
  },
  {
   "cell_type": "code",
   "execution_count": 170,
   "id": "5d121f4f",
   "metadata": {},
   "outputs": [
    {
     "data": {
      "text/plain": [
       "[20, 25, 30, 45, 55, 66, 66, 77, 78, 89, 93]"
      ]
     },
     "execution_count": 170,
     "metadata": {},
     "output_type": "execute_result"
    }
   ],
   "source": [
    "marks"
   ]
  },
  {
   "cell_type": "code",
   "execution_count": 174,
   "id": "78ed1553",
   "metadata": {},
   "outputs": [],
   "source": [
    "marks.insert(1,25)\n",
    "marks.pop()\n",
    "marks.pop(2)\n",
    "marks.remove(66)"
   ]
  },
  {
   "cell_type": "code",
   "execution_count": 192,
   "id": "8c77c7d5",
   "metadata": {},
   "outputs": [
    {
     "data": {
      "text/plain": [
       "[89, 78, 77, 66, 55, 45, 30, 25, 25, 20]"
      ]
     },
     "execution_count": 192,
     "metadata": {},
     "output_type": "execute_result"
    }
   ],
   "source": [
    "marks"
   ]
  },
  {
   "cell_type": "code",
   "execution_count": 193,
   "id": "35738ca6",
   "metadata": {},
   "outputs": [],
   "source": [
    "marks.sort(reverse=True)"
   ]
  },
  {
   "cell_type": "code",
   "execution_count": 178,
   "id": "b7024a70",
   "metadata": {},
   "outputs": [
    {
     "data": {
      "text/plain": [
       "[89, 78, 77, 66, 55, 45, 30, 25, 25, 20]"
      ]
     },
     "execution_count": 178,
     "metadata": {},
     "output_type": "execute_result"
    }
   ],
   "source": [
    "marks"
   ]
  },
  {
   "cell_type": "code",
   "execution_count": 189,
   "id": "7ca21681",
   "metadata": {},
   "outputs": [],
   "source": [
    "work_location=(\"Delhi\",\"Guwahati\",\"Luckhnow\")"
   ]
  },
  {
   "cell_type": "code",
   "execution_count": 190,
   "id": "5613e043",
   "metadata": {},
   "outputs": [
    {
     "data": {
      "text/plain": [
       "('Delhi', 'Guwahati', 'Luckhnow')"
      ]
     },
     "execution_count": 190,
     "metadata": {},
     "output_type": "execute_result"
    }
   ],
   "source": [
    "work_location"
   ]
  },
  {
   "cell_type": "code",
   "execution_count": 191,
   "id": "01511173",
   "metadata": {},
   "outputs": [
    {
     "data": {
      "text/plain": [
       "tuple"
      ]
     },
     "execution_count": 191,
     "metadata": {},
     "output_type": "execute_result"
    }
   ],
   "source": [
    "type(work_location)"
   ]
  },
  {
   "cell_type": "code",
   "execution_count": 194,
   "id": "e047a93a",
   "metadata": {},
   "outputs": [],
   "source": [
    "work_location=list(work_location)"
   ]
  },
  {
   "cell_type": "code",
   "execution_count": 195,
   "id": "e706cfaf",
   "metadata": {},
   "outputs": [
    {
     "data": {
      "text/plain": [
       "['Delhi', 'Guwahati', 'Luckhnow']"
      ]
     },
     "execution_count": 195,
     "metadata": {},
     "output_type": "execute_result"
    }
   ],
   "source": [
    "work_location"
   ]
  },
  {
   "cell_type": "code",
   "execution_count": 205,
   "id": "669028eb",
   "metadata": {},
   "outputs": [
    {
     "ename": "AttributeError",
     "evalue": "'tuple' object has no attribute 'append'",
     "output_type": "error",
     "traceback": [
      "\u001b[1;31m---------------------------------------------------------------------------\u001b[0m",
      "\u001b[1;31mAttributeError\u001b[0m                            Traceback (most recent call last)",
      "\u001b[1;32m~\\AppData\\Local\\Temp/ipykernel_14428/2649734085.py\u001b[0m in \u001b[0;36m<module>\u001b[1;34m\u001b[0m\n\u001b[1;32m----> 1\u001b[1;33m \u001b[0mwork_location\u001b[0m\u001b[1;33m.\u001b[0m\u001b[0mappend\u001b[0m\u001b[1;33m(\u001b[0m\u001b[1;34m\"Kashmir\"\u001b[0m\u001b[1;33m)\u001b[0m\u001b[1;33m\u001b[0m\u001b[1;33m\u001b[0m\u001b[0m\n\u001b[0m",
      "\u001b[1;31mAttributeError\u001b[0m: 'tuple' object has no attribute 'append'"
     ]
    }
   ],
   "source": [
    "work_location.append(\"Kashmir\")"
   ]
  },
  {
   "cell_type": "code",
   "execution_count": 198,
   "id": "ed2bc011",
   "metadata": {},
   "outputs": [
    {
     "data": {
      "text/plain": [
       "['Delhi', 'Guwahati', 'Luckhnow', 'Kashmir']"
      ]
     },
     "execution_count": 198,
     "metadata": {},
     "output_type": "execute_result"
    }
   ],
   "source": [
    "work_location"
   ]
  },
  {
   "cell_type": "code",
   "execution_count": 200,
   "id": "99846b1f",
   "metadata": {},
   "outputs": [],
   "source": [
    "work_location=tuple(work_location)"
   ]
  },
  {
   "cell_type": "code",
   "execution_count": 201,
   "id": "c27a7f3a",
   "metadata": {},
   "outputs": [
    {
     "data": {
      "text/plain": [
       "('Delhi', 'Guwahati', 'Luckhnow', 'Kashmir')"
      ]
     },
     "execution_count": 201,
     "metadata": {},
     "output_type": "execute_result"
    }
   ],
   "source": [
    "work_location"
   ]
  },
  {
   "cell_type": "code",
   "execution_count": 202,
   "id": "2c806a99",
   "metadata": {},
   "outputs": [
    {
     "data": {
      "text/plain": [
       "1"
      ]
     },
     "execution_count": 202,
     "metadata": {},
     "output_type": "execute_result"
    }
   ],
   "source": [
    "work_location.count(\"Guwahati\")"
   ]
  },
  {
   "cell_type": "code",
   "execution_count": 203,
   "id": "204f2784",
   "metadata": {},
   "outputs": [
    {
     "data": {
      "text/plain": [
       "2"
      ]
     },
     "execution_count": 203,
     "metadata": {},
     "output_type": "execute_result"
    }
   ],
   "source": [
    "work_location.index(\"Luckhnow\")"
   ]
  },
  {
   "cell_type": "code",
   "execution_count": 204,
   "id": "a7f9c08e",
   "metadata": {},
   "outputs": [
    {
     "data": {
      "text/plain": [
       "['Delhi', 'Guwahati', 'Luckhnow', 'Kashmir']"
      ]
     },
     "execution_count": 204,
     "metadata": {},
     "output_type": "execute_result"
    }
   ],
   "source": [
    "list(work_location)"
   ]
  },
  {
   "cell_type": "code",
   "execution_count": 218,
   "id": "1aa4ced3",
   "metadata": {},
   "outputs": [],
   "source": [
    "work_location=list(work_location)"
   ]
  },
  {
   "cell_type": "code",
   "execution_count": 219,
   "id": "29f1daa7",
   "metadata": {},
   "outputs": [],
   "source": [
    "work_location[2]= \"Ahemdabad\""
   ]
  },
  {
   "cell_type": "code",
   "execution_count": 220,
   "id": "cb95257b",
   "metadata": {},
   "outputs": [
    {
     "data": {
      "text/plain": [
       "['Delhi', 'Guwahati', 'Ahemdabad', 'Kashmir']"
      ]
     },
     "execution_count": 220,
     "metadata": {},
     "output_type": "execute_result"
    }
   ],
   "source": [
    "work_location"
   ]
  },
  {
   "cell_type": "code",
   "execution_count": 221,
   "id": "87af8337",
   "metadata": {},
   "outputs": [
    {
     "data": {
      "text/plain": [
       "('Delhi', 'Guwahati', 'Ahemdabad', 'Kashmir')"
      ]
     },
     "execution_count": 221,
     "metadata": {},
     "output_type": "execute_result"
    }
   ],
   "source": [
    "tuple(work_location)"
   ]
  },
  {
   "cell_type": "code",
   "execution_count": 222,
   "id": "4577bc59",
   "metadata": {},
   "outputs": [
    {
     "data": {
      "text/plain": [
       "4"
      ]
     },
     "execution_count": 222,
     "metadata": {},
     "output_type": "execute_result"
    }
   ],
   "source": [
    "len(work_location)"
   ]
  },
  {
   "cell_type": "code",
   "execution_count": 225,
   "id": "2259c6be",
   "metadata": {},
   "outputs": [
    {
     "data": {
      "text/plain": [
       "2"
      ]
     },
     "execution_count": 225,
     "metadata": {},
     "output_type": "execute_result"
    }
   ],
   "source": [
    "work_location.index(\"Ahemdabad\")"
   ]
  },
  {
   "cell_type": "code",
   "execution_count": 226,
   "id": "3722b3a7",
   "metadata": {},
   "outputs": [],
   "source": [
    "roll_number=set()"
   ]
  },
  {
   "cell_type": "code",
   "execution_count": 227,
   "id": "aa9dd06c",
   "metadata": {},
   "outputs": [
    {
     "data": {
      "text/plain": [
       "set"
      ]
     },
     "execution_count": 227,
     "metadata": {},
     "output_type": "execute_result"
    }
   ],
   "source": [
    "type(roll_number)"
   ]
  },
  {
   "cell_type": "code",
   "execution_count": 228,
   "id": "88dde64d",
   "metadata": {},
   "outputs": [],
   "source": [
    "roll_number.add(1)"
   ]
  },
  {
   "cell_type": "code",
   "execution_count": 229,
   "id": "d053fa86",
   "metadata": {},
   "outputs": [
    {
     "data": {
      "text/plain": [
       "{1}"
      ]
     },
     "execution_count": 229,
     "metadata": {},
     "output_type": "execute_result"
    }
   ],
   "source": [
    "roll_number"
   ]
  },
  {
   "cell_type": "code",
   "execution_count": 230,
   "id": "9264b225",
   "metadata": {},
   "outputs": [],
   "source": [
    "roll_number.add(2)"
   ]
  },
  {
   "cell_type": "code",
   "execution_count": 231,
   "id": "b2cb539b",
   "metadata": {},
   "outputs": [
    {
     "data": {
      "text/plain": [
       "{1, 2}"
      ]
     },
     "execution_count": 231,
     "metadata": {},
     "output_type": "execute_result"
    }
   ],
   "source": [
    "roll_number"
   ]
  },
  {
   "cell_type": "code",
   "execution_count": 232,
   "id": "a681847d",
   "metadata": {},
   "outputs": [],
   "source": [
    "roll_number.add(1)"
   ]
  },
  {
   "cell_type": "code",
   "execution_count": null,
   "id": "88b1b845",
   "metadata": {},
   "outputs": [],
   "source": []
  },
  {
   "cell_type": "code",
   "execution_count": 234,
   "id": "edc4ffe0",
   "metadata": {},
   "outputs": [
    {
     "data": {
      "text/plain": [
       "{1, 2}"
      ]
     },
     "execution_count": 234,
     "metadata": {},
     "output_type": "execute_result"
    }
   ],
   "source": [
    "roll_number"
   ]
  },
  {
   "cell_type": "code",
   "execution_count": 235,
   "id": "9ba54517",
   "metadata": {},
   "outputs": [],
   "source": [
    "remove_dups=[1,2,2,4,4,6,6,78,86,55,78,6]"
   ]
  },
  {
   "cell_type": "code",
   "execution_count": 236,
   "id": "28107d0f",
   "metadata": {},
   "outputs": [],
   "source": [
    "remove_dups=set(remove_dups)"
   ]
  },
  {
   "cell_type": "code",
   "execution_count": 237,
   "id": "c03f41ed",
   "metadata": {},
   "outputs": [
    {
     "data": {
      "text/plain": [
       "{1, 2, 4, 6, 55, 78, 86}"
      ]
     },
     "execution_count": 237,
     "metadata": {},
     "output_type": "execute_result"
    }
   ],
   "source": [
    "remove_dups"
   ]
  },
  {
   "cell_type": "code",
   "execution_count": null,
   "id": "da349a1b",
   "metadata": {},
   "outputs": [],
   "source": []
  }
 ],
 "metadata": {
  "kernelspec": {
   "display_name": "Python 3 (ipykernel)",
   "language": "python",
   "name": "python3"
  },
  "language_info": {
   "codemirror_mode": {
    "name": "ipython",
    "version": 3
   },
   "file_extension": ".py",
   "mimetype": "text/x-python",
   "name": "python",
   "nbconvert_exporter": "python",
   "pygments_lexer": "ipython3",
   "version": "3.9.7"
  }
 },
 "nbformat": 4,
 "nbformat_minor": 5
}
